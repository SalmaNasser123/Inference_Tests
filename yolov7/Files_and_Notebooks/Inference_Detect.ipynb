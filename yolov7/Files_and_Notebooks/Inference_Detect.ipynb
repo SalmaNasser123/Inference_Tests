{
 "cells": [
  {
   "cell_type": "code",
   "execution_count": 1,
   "id": "35e5952c",
   "metadata": {},
   "outputs": [
    {
     "name": "stdout",
     "output_type": "stream",
     "text": [
      "/home/roboticscorner/Python/yolov7/Files_and_Notebooks\n"
     ]
    }
   ],
   "source": [
    "current_dir = !pwd\n",
    "current_dir = current_dir[0].strip()\n",
    "\n",
    "print(current_dir)\n"
   ]
  },
  {
   "cell_type": "code",
   "execution_count": 4,
   "id": "dd92dc36",
   "metadata": {},
   "outputs": [],
   "source": [
    "source_path = current_dir + \"/Input_Videos/people_with_helmet_working_1920_1080_50fps.mp4\"\n",
    "weights_path = current_dir + \"/Input_Weights/Helmets_Heads_Weights.pt\"\n",
    "script_path = \"../detect.py\"\n",
    "output_name = \"video_Output_1\"\n"
   ]
  },
  {
   "cell_type": "code",
   "execution_count": null,
   "id": "813114d0",
   "metadata": {},
   "outputs": [
    {
     "name": "stdout",
     "output_type": "stream",
     "text": [
      "Namespace(agnostic_nms=False, augment=False, classes=None, conf_thres=0.25, device='', exist_ok=False, img_size=640, iou_thres=0.45, name='video_Output_1', no_trace=False, nosave=False, project='runs/detect', save_conf=False, save_txt=False, source='/home/roboticscorner/Python/yolov7/Files_and_Notebooks/Input_Videos/people_with_helmet_working_1920_1080_50fps.mp4', update=False, view_img=True, weights=['/home/roboticscorner/Python/yolov7/Files_and_Notebooks/Input_Weights/Helmets_Heads_Weights.pt'])\n",
      "YOLOR 🚀 v0.1-128-ga207844 torch 2.4.1+cu121 CPU\n",
      "\n",
      "/home/roboticscorner/Python/yolov7/models/experimental.py:252: FutureWarning: You are using `torch.load` with `weights_only=False` (the current default value), which uses the default pickle module implicitly. It is possible to construct malicious pickle data which will execute arbitrary code during unpickling (See https://github.com/pytorch/pytorch/blob/main/SECURITY.md#untrusted-models for more details). In a future release, the default value for `weights_only` will be flipped to `True`. This limits the functions that could be executed during unpickling. Arbitrary objects will no longer be allowed to be loaded via this mode unless they are explicitly allowlisted by the user via `torch.serialization.add_safe_globals`. We recommend you start setting `weights_only=True` for any use case where you don't have full control of the loaded file. Please open an issue on GitHub for any issues related to this experimental feature.\n",
      "  ckpt = torch.load(w, map_location=map_location)  # load\n",
      "Fusing layers... \n",
      "RepConv.fuse_repvgg_block\n",
      "RepConv.fuse_repvgg_block\n",
      "RepConv.fuse_repvgg_block\n",
      "IDetect.fuse\n",
      "/home/roboticscorner/.local/lib/python3.8/site-packages/torch/functional.py:513: UserWarning: torch.meshgrid: in an upcoming release, it will be required to pass the indexing argument. (Triggered internally at ../aten/src/ATen/native/TensorShape.cpp:3609.)\n",
      "  return _VF.meshgrid(tensors, **kwargs)  # type: ignore[attr-defined]\n",
      "Model Summary: 314 layers, 36492560 parameters, 6194944 gradients, 103.2 GFLOPS\n",
      " Convert model to Traced-model... \n",
      " traced_script_module saved! \n",
      " model is traced! \n",
      "\n",
      "video 1/1 (1/486) /home/roboticscorner/Python/yolov7/Files_and_Notebooks/Input_Videos/people_with_helmet_working_1920_1080_50fps.mp4: 9 helmets, Done. (1024.1ms) Inference, (2.2ms) NMS\n",
      "video 1/1 (2/486) /home/roboticscorner/Python/yolov7/Files_and_Notebooks/Input_Videos/people_with_helmet_working_1920_1080_50fps.mp4: 8 helmets, Done. (803.4ms) Inference, (1.3ms) NMS\n",
      "video 1/1 (3/486) /home/roboticscorner/Python/yolov7/Files_and_Notebooks/Input_Videos/people_with_helmet_working_1920_1080_50fps.mp4: 8 helmets, Done. (829.5ms) Inference, (1.0ms) NMS\n",
      "video 1/1 (4/486) /home/roboticscorner/Python/yolov7/Files_and_Notebooks/Input_Videos/people_with_helmet_working_1920_1080_50fps.mp4: 9 helmets, Done. (874.6ms) Inference, (0.9ms) NMS\n",
      "video 1/1 (5/486) /home/roboticscorner/Python/yolov7/Files_and_Notebooks/Input_Videos/people_with_helmet_working_1920_1080_50fps.mp4: 10 helmets, Done. (843.5ms) Inference, (1.2ms) NMS\n",
      "video 1/1 (6/486) /home/roboticscorner/Python/yolov7/Files_and_Notebooks/Input_Videos/people_with_helmet_working_1920_1080_50fps.mp4: 11 helmets, Done. (843.0ms) Inference, (1.2ms) NMS\n",
      "video 1/1 (7/486) /home/roboticscorner/Python/yolov7/Files_and_Notebooks/Input_Videos/people_with_helmet_working_1920_1080_50fps.mp4: 9 helmets, Done. (844.3ms) Inference, (0.9ms) NMS\n",
      "video 1/1 (8/486) /home/roboticscorner/Python/yolov7/Files_and_Notebooks/Input_Videos/people_with_helmet_working_1920_1080_50fps.mp4: 10 helmets, Done. (818.0ms) Inference, (1.0ms) NMS\n",
      "video 1/1 (9/486) /home/roboticscorner/Python/yolov7/Files_and_Notebooks/Input_Videos/people_with_helmet_working_1920_1080_50fps.mp4: 9 helmets, Done. (651.7ms) Inference, (0.8ms) NMS\n",
      "video 1/1 (10/486) /home/roboticscorner/Python/yolov7/Files_and_Notebooks/Input_Videos/people_with_helmet_working_1920_1080_50fps.mp4: 9 helmets, Done. (647.5ms) Inference, (1.1ms) NMS\n",
      "video 1/1 (11/486) /home/roboticscorner/Python/yolov7/Files_and_Notebooks/Input_Videos/people_with_helmet_working_1920_1080_50fps.mp4: 9 helmets, Done. (833.1ms) Inference, (1.1ms) NMS\n",
      "video 1/1 (12/486) /home/roboticscorner/Python/yolov7/Files_and_Notebooks/Input_Videos/people_with_helmet_working_1920_1080_50fps.mp4: 9 helmets, Done. (833.3ms) Inference, (1.2ms) NMS\n",
      "video 1/1 (13/486) /home/roboticscorner/Python/yolov7/Files_and_Notebooks/Input_Videos/people_with_helmet_working_1920_1080_50fps.mp4: 9 helmets, Done. (881.2ms) Inference, (0.8ms) NMS\n",
      "video 1/1 (14/486) /home/roboticscorner/Python/yolov7/Files_and_Notebooks/Input_Videos/people_with_helmet_working_1920_1080_50fps.mp4: 9 helmets, Done. (710.7ms) Inference, (1.6ms) NMS\n",
      "video 1/1 (15/486) /home/roboticscorner/Python/yolov7/Files_and_Notebooks/Input_Videos/people_with_helmet_working_1920_1080_50fps.mp4: 9 helmets, Done. (829.5ms) Inference, (1.1ms) NMS\n",
      "video 1/1 (16/486) /home/roboticscorner/Python/yolov7/Files_and_Notebooks/Input_Videos/people_with_helmet_working_1920_1080_50fps.mp4: 10 helmets, Done. (829.8ms) Inference, (0.9ms) NMS\n",
      "video 1/1 (17/486) /home/roboticscorner/Python/yolov7/Files_and_Notebooks/Input_Videos/people_with_helmet_working_1920_1080_50fps.mp4: 10 helmets, Done. (824.1ms) Inference, (1.1ms) NMS\n",
      "video 1/1 (18/486) /home/roboticscorner/Python/yolov7/Files_and_Notebooks/Input_Videos/people_with_helmet_working_1920_1080_50fps.mp4: 10 helmets, Done. (654.8ms) Inference, (2.2ms) NMS\n",
      "video 1/1 (19/486) /home/roboticscorner/Python/yolov7/Files_and_Notebooks/Input_Videos/people_with_helmet_working_1920_1080_50fps.mp4: 10 helmets, Done. (656.8ms) Inference, (0.8ms) NMS\n",
      "video 1/1 (20/486) /home/roboticscorner/Python/yolov7/Files_and_Notebooks/Input_Videos/people_with_helmet_working_1920_1080_50fps.mp4: 11 helmets, Done. (669.9ms) Inference, (0.8ms) NMS\n",
      "video 1/1 (21/486) /home/roboticscorner/Python/yolov7/Files_and_Notebooks/Input_Videos/people_with_helmet_working_1920_1080_50fps.mp4: 10 helmets, Done. (709.7ms) Inference, (0.9ms) NMS\n",
      "video 1/1 (22/486) /home/roboticscorner/Python/yolov7/Files_and_Notebooks/Input_Videos/people_with_helmet_working_1920_1080_50fps.mp4: 10 helmets, Done. (722.7ms) Inference, (0.9ms) NMS\n",
      "video 1/1 (23/486) /home/roboticscorner/Python/yolov7/Files_and_Notebooks/Input_Videos/people_with_helmet_working_1920_1080_50fps.mp4: 10 helmets, Done. (667.1ms) Inference, (1.2ms) NMS\n",
      "video 1/1 (24/486) /home/roboticscorner/Python/yolov7/Files_and_Notebooks/Input_Videos/people_with_helmet_working_1920_1080_50fps.mp4: 10 helmets, Done. (849.6ms) Inference, (0.9ms) NMS\n",
      "video 1/1 (25/486) /home/roboticscorner/Python/yolov7/Files_and_Notebooks/Input_Videos/people_with_helmet_working_1920_1080_50fps.mp4: 10 helmets, Done. (863.8ms) Inference, (1.8ms) NMS\n",
      "video 1/1 (26/486) /home/roboticscorner/Python/yolov7/Files_and_Notebooks/Input_Videos/people_with_helmet_working_1920_1080_50fps.mp4: 10 helmets, Done. (1083.4ms) Inference, (0.8ms) NMS\n",
      "video 1/1 (27/486) /home/roboticscorner/Python/yolov7/Files_and_Notebooks/Input_Videos/people_with_helmet_working_1920_1080_50fps.mp4: 10 helmets, Done. (795.2ms) Inference, (1.0ms) NMS\n",
      "video 1/1 (28/486) /home/roboticscorner/Python/yolov7/Files_and_Notebooks/Input_Videos/people_with_helmet_working_1920_1080_50fps.mp4: 10 helmets, Done. (657.9ms) Inference, (1.5ms) NMS\n",
      "video 1/1 (29/486) /home/roboticscorner/Python/yolov7/Files_and_Notebooks/Input_Videos/people_with_helmet_working_1920_1080_50fps.mp4: 10 helmets, Done. (650.6ms) Inference, (1.3ms) NMS\n",
      "video 1/1 (30/486) /home/roboticscorner/Python/yolov7/Files_and_Notebooks/Input_Videos/people_with_helmet_working_1920_1080_50fps.mp4: 9 helmets, Done. (815.0ms) Inference, (0.8ms) NMS\n",
      "video 1/1 (31/486) /home/roboticscorner/Python/yolov7/Files_and_Notebooks/Input_Videos/people_with_helmet_working_1920_1080_50fps.mp4: 9 helmets, Done. (800.1ms) Inference, (1.5ms) NMS\n",
      "video 1/1 (32/486) /home/roboticscorner/Python/yolov7/Files_and_Notebooks/Input_Videos/people_with_helmet_working_1920_1080_50fps.mp4: 9 helmets, Done. (842.0ms) Inference, (2.0ms) NMS\n",
      "video 1/1 (33/486) /home/roboticscorner/Python/yolov7/Files_and_Notebooks/Input_Videos/people_with_helmet_working_1920_1080_50fps.mp4: 9 helmets, Done. (809.5ms) Inference, (1.1ms) NMS\n",
      "video 1/1 (34/486) /home/roboticscorner/Python/yolov7/Files_and_Notebooks/Input_Videos/people_with_helmet_working_1920_1080_50fps.mp4: 10 helmets, Done. (928.8ms) Inference, (1.0ms) NMS\n",
      "video 1/1 (35/486) /home/roboticscorner/Python/yolov7/Files_and_Notebooks/Input_Videos/people_with_helmet_working_1920_1080_50fps.mp4: 9 helmets, Done. (840.6ms) Inference, (0.9ms) NMS\n",
      "video 1/1 (36/486) /home/roboticscorner/Python/yolov7/Files_and_Notebooks/Input_Videos/people_with_helmet_working_1920_1080_50fps.mp4: 9 helmets, Done. (796.4ms) Inference, (1.0ms) NMS\n",
      "video 1/1 (37/486) /home/roboticscorner/Python/yolov7/Files_and_Notebooks/Input_Videos/people_with_helmet_working_1920_1080_50fps.mp4: 9 helmets, Done. (882.8ms) Inference, (0.9ms) NMS\n",
      "video 1/1 (38/486) /home/roboticscorner/Python/yolov7/Files_and_Notebooks/Input_Videos/people_with_helmet_working_1920_1080_50fps.mp4: 8 helmets, Done. (800.8ms) Inference, (0.9ms) NMS\n",
      "video 1/1 (39/486) /home/roboticscorner/Python/yolov7/Files_and_Notebooks/Input_Videos/people_with_helmet_working_1920_1080_50fps.mp4: 9 helmets, Done. (876.6ms) Inference, (0.9ms) NMS\n",
      "video 1/1 (40/486) /home/roboticscorner/Python/yolov7/Files_and_Notebooks/Input_Videos/people_with_helmet_working_1920_1080_50fps.mp4: 9 helmets, Done. (704.8ms) Inference, (1.1ms) NMS\n",
      "video 1/1 (41/486) /home/roboticscorner/Python/yolov7/Files_and_Notebooks/Input_Videos/people_with_helmet_working_1920_1080_50fps.mp4: 9 helmets, Done. (782.2ms) Inference, (1.0ms) NMS\n",
      "video 1/1 (42/486) /home/roboticscorner/Python/yolov7/Files_and_Notebooks/Input_Videos/people_with_helmet_working_1920_1080_50fps.mp4: 9 helmets, Done. (662.7ms) Inference, (1.1ms) NMS\n",
      "video 1/1 (43/486) /home/roboticscorner/Python/yolov7/Files_and_Notebooks/Input_Videos/people_with_helmet_working_1920_1080_50fps.mp4: 8 helmets, Done. (799.5ms) Inference, (1.0ms) NMS\n",
      "video 1/1 (44/486) /home/roboticscorner/Python/yolov7/Files_and_Notebooks/Input_Videos/people_with_helmet_working_1920_1080_50fps.mp4: 8 helmets, Done. (801.3ms) Inference, (0.8ms) NMS\n",
      "video 1/1 (45/486) /home/roboticscorner/Python/yolov7/Files_and_Notebooks/Input_Videos/people_with_helmet_working_1920_1080_50fps.mp4: 8 helmets, Done. (831.9ms) Inference, (1.3ms) NMS\n",
      "video 1/1 (46/486) /home/roboticscorner/Python/yolov7/Files_and_Notebooks/Input_Videos/people_with_helmet_working_1920_1080_50fps.mp4: 7 helmets, Done. (730.6ms) Inference, (0.8ms) NMS\n",
      "video 1/1 (47/486) /home/roboticscorner/Python/yolov7/Files_and_Notebooks/Input_Videos/people_with_helmet_working_1920_1080_50fps.mp4: 7 helmets, Done. (657.1ms) Inference, (0.9ms) NMS\n",
      "video 1/1 (48/486) /home/roboticscorner/Python/yolov7/Files_and_Notebooks/Input_Videos/people_with_helmet_working_1920_1080_50fps.mp4: 7 helmets, Done. (625.8ms) Inference, (0.8ms) NMS\n",
      "video 1/1 (49/486) /home/roboticscorner/Python/yolov7/Files_and_Notebooks/Input_Videos/people_with_helmet_working_1920_1080_50fps.mp4: 7 helmets, Done. (641.7ms) Inference, (0.9ms) NMS\n",
      "video 1/1 (50/486) /home/roboticscorner/Python/yolov7/Files_and_Notebooks/Input_Videos/people_with_helmet_working_1920_1080_50fps.mp4: 7 helmets, Done. (635.7ms) Inference, (1.1ms) NMS\n",
      "video 1/1 (51/486) /home/roboticscorner/Python/yolov7/Files_and_Notebooks/Input_Videos/people_with_helmet_working_1920_1080_50fps.mp4: 7 helmets, Done. (896.0ms) Inference, (0.9ms) NMS\n",
      "video 1/1 (52/486) /home/roboticscorner/Python/yolov7/Files_and_Notebooks/Input_Videos/people_with_helmet_working_1920_1080_50fps.mp4: 7 helmets, Done. (835.9ms) Inference, (1.1ms) NMS\n",
      "video 1/1 (53/486) /home/roboticscorner/Python/yolov7/Files_and_Notebooks/Input_Videos/people_with_helmet_working_1920_1080_50fps.mp4: 7 helmets, Done. (865.3ms) Inference, (0.9ms) NMS\n",
      "video 1/1 (54/486) /home/roboticscorner/Python/yolov7/Files_and_Notebooks/Input_Videos/people_with_helmet_working_1920_1080_50fps.mp4: 9 helmets, Done. (829.7ms) Inference, (0.9ms) NMS\n",
      "video 1/1 (55/486) /home/roboticscorner/Python/yolov7/Files_and_Notebooks/Input_Videos/people_with_helmet_working_1920_1080_50fps.mp4: "
     ]
    }
   ],
   "source": [
    "!python3 {script_path} --source {source_path} --weights {weights_path} --name {output_name} --view-img"
   ]
  },
  {
   "cell_type": "code",
   "execution_count": null,
   "id": "4d6e0242",
   "metadata": {},
   "outputs": [],
   "source": []
  }
 ],
 "metadata": {
  "kernelspec": {
   "display_name": "Python 3",
   "language": "python",
   "name": "python3"
  },
  "language_info": {
   "codemirror_mode": {
    "name": "ipython",
    "version": 3
   },
   "file_extension": ".py",
   "mimetype": "text/x-python",
   "name": "python",
   "nbconvert_exporter": "python",
   "pygments_lexer": "ipython3",
   "version": "3.8.10"
  }
 },
 "nbformat": 4,
 "nbformat_minor": 5
}
