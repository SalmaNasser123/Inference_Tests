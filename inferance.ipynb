{
 "cells": [
  {
   "cell_type": "code",
   "execution_count": null,
   "metadata": {},
   "outputs": [],
   "source": [
    "import cv2\n",
    "import numpy as np"
   ]
  },
  {
   "cell_type": "code",
   "execution_count": null,
   "metadata": {},
   "outputs": [],
   "source": [
    "input_video_path = \"/home/roboticscorner/Python/people_with_helmet_working_1920_1080_50fps.mp4\"\n",
    "\n"
   ]
  },
  {
   "cell_type": "code",
   "execution_count": null,
   "metadata": {},
   "outputs": [],
   "source": [
    "! python3 detect.py --source inference-data/busy_street.mp4 --weights yolov7.pt --name video_1 --view-img"
   ]
  },
  {
   "cell_type": "code",
   "execution_count": null,
   "metadata": {},
   "outputs": [],
   "source": [
    "#loading weights\n",
    "\n",
    "net = cv2.dnn.readNetFromONNX(\"best.onnx\")\n",
    "net.setPreferableBackend(cv2.dnn.DNN_BACKEND_CUDA)  # or DNN_BACKEND_OPENCV\n",
    "net.setPreferableTarget(cv2.dnn.DNN_TARGET_CUDA)    # or DNN_TARGET_CPU"
   ]
  },
  {
   "cell_type": "code",
   "execution_count": null,
   "metadata": {},
   "outputs": [],
   "source": [
    "cap = cv2.VideoCapture(\"input_video.mp4\")"
   ]
  },
  {
   "cell_type": "code",
   "execution_count": null,
   "metadata": {},
   "outputs": [],
   "source": [
    "def compute_bound(frame, outputs):\n",
    "\n",
    "    # Load your class names (update with your custom dataset names)\n",
    "    class_names = [\"head\", \"helmet\", \"person\"]  # Replace with your own\n",
    "\n",
    "    # NMS & draw config\n",
    "    conf_threshold = 0.25\n",
    "    nms_threshold = 0.45\n",
    "\n",
    "    # Assuming `outputs` is the result from net.forward()\n",
    "    # shape: [num_detections, 85]\n",
    "    detections = outputs[0]  # usually the first output\n",
    "\n",
    "    boxes = []\n",
    "    confidences = []\n",
    "    class_ids = []\n",
    "\n",
    "    for detection in detections:\n",
    "        scores = detection[5:]\n",
    "        class_id = np.argmax(scores)\n",
    "        confidence = detection[4] * scores[class_id]\n",
    "\n",
    "        if confidence > conf_threshold:\n",
    "            cx, cy, w, h = detection[0:4]\n",
    "            x = int(cx - w / 2)\n",
    "            y = int(cy - h / 2)\n",
    "            boxes.append([x, y, int(w), int(h)])\n",
    "            confidences.append(float(confidence))\n",
    "            class_ids.append(class_id)\n",
    "\n",
    "    # Apply NMS\n",
    "    indices = cv2.dnn.NMSBoxes(boxes, confidences, conf_threshold, nms_threshold)\n",
    "\n",
    "    # Draw boxes\n",
    "    for i in indices:\n",
    "        i = i[0] if isinstance(i, (tuple, list, np.ndarray)) else i\n",
    "        box = boxes[i]\n",
    "        x, y, w, h = box\n",
    "        label = f\"{class_names[class_ids[i]]}: {confidences[i]:.2f}\"\n",
    "\n",
    "        # Draw rectangle\n",
    "        cv2.rectangle(frame, (x, y), (x + w, y + h), (0, 255, 0), 2)\n",
    "\n",
    "        # Draw label\n",
    "        cv2.putText(frame, label, (x, y - 10), cv2.FONT_HERSHEY_SIMPLEX,\n",
    "                0.5, (0, 255, 0), 2)\n",
    "    return frame\n"
   ]
  },
  {
   "cell_type": "code",
   "execution_count": null,
   "metadata": {},
   "outputs": [],
   "source": [
    "while cap.isOpened():\n",
    "    ret, frame = cap.read()\n",
    "    if not ret:\n",
    "        break\n",
    "\n",
    "    blob = cv2.dnn.blobFromImage(frame, 1/255.0, (640, 640), swapRB=True, crop=False)\n",
    "    net.setInput(blob)\n",
    "    outputs = net.forward()\n",
    "\n",
    "    # TODO: Add NMS + draw boxes here\n",
    "    frame = compute_bound(frame, outputs)\n",
    "\n",
    "    cv2.imshow(\"YOLOv7 Detection\", frame)\n",
    "    if cv2.waitKey(1) == ord('q'):\n",
    "        break"
   ]
  },
  {
   "cell_type": "code",
   "execution_count": null,
   "metadata": {},
   "outputs": [],
   "source": [
    "cap.release()\n",
    "cv2.destroyAllWindows()"
   ]
  }
 ],
 "metadata": {
  "language_info": {
   "name": "python"
  }
 },
 "nbformat": 4,
 "nbformat_minor": 2
}
